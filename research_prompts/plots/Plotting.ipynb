{
 "cells": [
  {
   "cell_type": "code",
   "execution_count": 1,
   "id": "82b9ba85",
   "metadata": {},
   "outputs": [
    {
     "data": {
      "image/png": "[encoded data removed]",
      "text/plain": [
       "<Figure size 432x288 with 1 Axes>"
      ]
     },
     "metadata": {
      "needs_background": "light"
     },
     "output_type": "display_data"
    }
   ],
   "source": [
    "import matplotlib.pyplot as plt\n",
    "import matplotlib.animation as animation\n",
    "\n",
    "x = [1, 2, 3, 4]\n",
    "y = [3, 30, 34, 100]\n",
    "\n",
    "fig, ax = plt.subplots()\n",
    "\n",
    "def update(frame):\n",
    "    ax.clear()\n",
    "    ax.plot(x[:frame+1], y[:frame+1], marker='X', markersize=5, linestyle='-', linewidth=1)\n",
    "    ax.set_xlim(0, 5)\n",
    "    ax.set_ylim(0, 120)\n",
    "    plt.draw()\n",
    "\n",
    "ani = animation.FuncAnimation(fig, update, frames=4, interval=500, repeat=False)\n",
    "\n",
    "plt.show()\n"
   ]
  },
  {
   "cell_type": "code",
   "execution_count": 3,
   "id": "efa0a6bb",
   "metadata": {},
   "outputs": [
    {
     "name": "stderr",
     "output_type": "stream",
     "text": [
      "MovieWriter imagemagick unavailable; using Pillow instead.\n"
     ]
    },
    {
     "data": {
      "image/png": "[encoded data removed]",
      "text/plain": [
       "<Figure size 432x288 with 1 Axes>"
      ]
     },
     "metadata": {
      "needs_background": "light"
     },
     "output_type": "display_data"
    }
   ],
   "source": [
    "import matplotlib.pyplot as plt\n",
    "import matplotlib.animation as animation\n",
    "\n",
    "x = [1, 2, 3, 4]\n",
    "y = [3, 30, 34, 100]\n",
    "\n",
    "fig, ax = plt.subplots()\n",
    "\n",
    "def update(frame):\n",
    "    ax.clear()\n",
    "    ax.plot(x[:frame+1], y[:frame+1], marker='X', markersize=5, linestyle='-', linewidth=1)\n",
    "    ax.set_xlim(0, 5)\n",
    "    ax.set_ylim(0, 120)\n",
    "    plt.draw()\n",
    "\n",
    "ani = animation.FuncAnimation(fig, update, frames=4, interval=500, repeat=False)\n",
    "\n",
    "# Save the animation as a GIF with higher resolution\n",
    "ani.save('animated_plot.gif', writer='imagemagick', fps=2, dpi=200)\n",
    "\n",
    "plt.show()\n"
   ]
  },
  {
   "cell_type": "code",
   "execution_count": 5,
   "id": "8ef69920",
   "metadata": {},
   "outputs": [
    {
     "name": "stderr",
     "output_type": "stream",
     "text": [
      "MovieWriter imagemagick unavailable; using Pillow instead.\n"
     ]
    },
    {
     "data": {
      "image/png": "[encoded data removed]",
      "text/plain": [
       "<Figure size 432x288 with 1 Axes>"
      ]
     },
     "metadata": {
      "needs_background": "light"
     },
     "output_type": "display_data"
    }
   ],
   "source": [
    "import numpy as np\n",
    "import matplotlib.pyplot as plt\n",
    "import matplotlib.animation as animation\n",
    "\n",
    "x = np.array([1, 2, 3, 4])\n",
    "y = np.array([3, 30, 34, 100])\n",
    "\n",
    "fig, ax = plt.subplots()\n",
    "\n",
    "def update(frame):\n",
    "    ax.clear()\n",
    "    \n",
    "    # Smooth transitions\n",
    "    t = frame % 100 / 100\n",
    "    current_x = x[:-1] * (1 - t) + x[1:] * t\n",
    "    current_y = y[:-1] * (1 - t) + y[1:] * t\n",
    "    \n",
    "    ax.plot(x, y, marker='X', markersize=8, linestyle='-', linewidth=2, color='#1f77b4', alpha=0.3)\n",
    "    ax.plot(current_x, current_y, marker='X', markersize=8, linestyle='-', linewidth=2, color='#ff7f0e')\n",
    "    \n",
    "    ax.set_xlim(0, 5)\n",
    "    ax.set_ylim(0, 120)\n",
    "    \n",
    "    # Make it visually appealing\n",
    "    ax.spines['top'].set_visible(False)\n",
    "    ax.spines['right'].set_visible(False)\n",
    "    ax.spines['bottom'].set_color('#666666')\n",
    "    ax.spines['left'].set_color('#666666')\n",
    "    \n",
    "    ax.tick_params(axis='x', colors='#666666')\n",
    "    ax.tick_params(axis='y', colors='#666666')\n",
    "\n",
    "    ax.set_title('Animated Line Plot', color='#444444', fontsize=14)\n",
    "    plt.draw()\n",
    "\n",
    "ani = animation.FuncAnimation(fig, update, frames=400, interval=20, repeat=True)\n",
    "\n",
    "# Save the animation as a GIF with higher resolution\n",
    "ani.save('animated_plot_pretty.gif', writer='imagemagick', fps=30, dpi=500)\n",
    "\n",
    "plt.show()\n"
   ]
  },
  {
   "cell_type": "code",
   "execution_count": null,
   "id": "4ec71b6e",
   "metadata": {},
   "outputs": [],
   "source": []
  }
 ],
 "metadata": {
  "kernelspec": {
   "display_name": "Python 3 (ipykernel)",
   "language": "python",
   "name": "python3"
  },
  "language_info": {
   "codemirror_mode": {
    "name": "ipython",
    "version": 3
   },
   "file_extension": ".py",
   "mimetype": "text/x-python",
   "name": "python",
   "nbconvert_exporter": "python",
   "pygments_lexer": "ipython3",
   "version": "3.9.12"
  }
 },
 "nbformat": 4,
 "nbformat_minor": 5
}
